{
  "nbformat": 4,
  "nbformat_minor": 0,
  "metadata": {
    "colab": {
      "name": "KNearestNeighbors-scale",
      "provenance": [],
      "collapsed_sections": [],
      "toc_visible": true,
      "include_colab_link": true
    },
    "kernelspec": {
      "display_name": "Python 3",
      "name": "python3"
    }
  },
  "cells": [
    {
      "cell_type": "markdown",
      "metadata": {
        "id": "view-in-github",
        "colab_type": "text"
      },
      "source": [
        "<a href=\"https://colab.research.google.com/github/moonsung1234/LearningExample/blob/main/KNearestNeighbors_scale.ipynb\" target=\"_parent\"><img src=\"https://colab.research.google.com/assets/colab-badge.svg\" alt=\"Open In Colab\"/></a>"
      ]
    },
    {
      "cell_type": "markdown",
      "metadata": {
        "id": "GeQA85T_a06k"
      },
      "source": [
        "K-최근접 이웃(K-Nearest Neighbors) 알고리즘을 이용한 머신러닝"
      ]
    },
    {
      "cell_type": "code",
      "metadata": {
        "id": "svHjejJwa0mm"
      },
      "source": [
        "from sklearn.neighbors import KNeighborsClassifier\n",
        "import matplotlib.pyplot as plt\n",
        "import numpy as np"
      ],
      "execution_count": 2,
      "outputs": []
    },
    {
      "cell_type": "code",
      "metadata": {
        "colab": {
          "base_uri": "https://localhost:8080/",
          "height": 282
        },
        "id": "p3VYjXhybZim",
        "outputId": "cb67b794-cbdd-412b-f7b0-1a0629d333a4"
      },
      "source": [
        "bream_length = [25.4, 26.3, 26.5, 29.0, 29.0, 29.7, 29.7, 30.0, 30.0, 30.7, 31.0, 31.0, 31.5, 32.0, 32.0, 32.0, 33.0, 33.0, 33.5, 33.5, 34.0, 34.0, 34.5, 35.0, 35.0, 35.0, 35.0, 36.0, 36.0, 37.0, 38.5, 38.5, 39.5, 41.0, 41.0]\n",
        "bream_weight = [242.0, 290.0, 340.0, 363.0, 430.0, 450.0, 500.0, 390.0, 450.0, 500.0, 475.0, 500.0, 500.0, 340.0, 600.0, 600.0, 700.0, 700.0, 610.0, 650.0, 575.0, 685.0, 620.0, 680.0, 700.0, 725.0, 720.0, 714.0, 850.0, 1000.0, 920.0, 955.0, 925.0, 975.0, 950.0]\n",
        "\n",
        "smelt_length = [9.8, 10.5, 10.6, 11.0, 11.2, 11.3, 11.8, 11.8, 12.0, 12.2, 12.4, 13.0, 14.3, 15.0]\n",
        "smelt_weight = [6.7, 7.5, 7.0, 9.7, 9.8, 8.7, 10.0, 9.9, 9.8, 12.2, 13.4, 12.2, 19.7, 19.9]\n",
        "\n",
        "fish_length = np.array(bream_length + smelt_length)\n",
        "fish_weight = np.array(bream_weight + smelt_weight)\n",
        "\n",
        "train_data = np.column_stack((fish_length, fish_weight))\n",
        "train_target = np.concatenate((np.ones(35), np.zeros(14)))\n",
        "\n",
        "plt.scatter(bream_length, bream_weight, color=\"blue\")\n",
        "plt.scatter(smelt_length, smelt_weight, color=\"red\")"
      ],
      "execution_count": 23,
      "outputs": [
        {
          "output_type": "execute_result",
          "data": {
            "text/plain": [
              "<matplotlib.collections.PathCollection at 0x7fd6b7358210>"
            ]
          },
          "metadata": {},
          "execution_count": 23
        },
        {
          "output_type": "display_data",
          "data": {
            "image/png": "[encoded data removed]",
            "text/plain": [
              "<Figure size 432x288 with 1 Axes>"
            ]
          },
          "metadata": {
            "needs_background": "light"
          }
        }
      ]
    },
    {
      "cell_type": "code",
      "metadata": {
        "colab": {
          "base_uri": "https://localhost:8080/",
          "height": 282
        },
        "id": "upZRdrmCnAKQ",
        "outputId": "c652e219-42b9-4561-f734-6956b9992c0f"
      },
      "source": [
        "mean = np.mean(train_data, axis=0)\n",
        "std = np.std(train_data, axis=0)\n",
        "\n",
        "train_scaled = (train_data - mean) / std\n",
        "\n",
        "plt.scatter(train_scaled[:, 0], train_scaled[:, 1])"
      ],
      "execution_count": 24,
      "outputs": [
        {
          "output_type": "execute_result",
          "data": {
            "text/plain": [
              "<matplotlib.collections.PathCollection at 0x7fd6b74659d0>"
            ]
          },
          "metadata": {},
          "execution_count": 24
        },
        {
          "output_type": "display_data",
          "data": {
            "image/png": "[encoded data removed]",
            "text/plain": [
              "<Figure size 432x288 with 1 Axes>"
            ]
          },
          "metadata": {
            "needs_background": "light"
          }
        }
      ]
    },
    {
      "cell_type": "code",
      "metadata": {
        "colab": {
          "base_uri": "https://localhost:8080/"
        },
        "id": "VyOD4Mt0b2r9",
        "outputId": "2b562cb4-3db7-4072-e66a-509e3c97caab"
      },
      "source": [
        "model = KNeighborsClassifier()\n",
        "model.fit(train_scaled, train_target)\n",
        "\n",
        "model.score(train_scaled, train_target)"
      ],
      "execution_count": 25,
      "outputs": [
        {
          "output_type": "execute_result",
          "data": {
            "text/plain": [
              "1.0"
            ]
          },
          "metadata": {},
          "execution_count": 25
        }
      ]
    },
    {
      "cell_type": "code",
      "metadata": {
        "colab": {
          "base_uri": "https://localhost:8080/",
          "height": 282
        },
        "id": "VCACbVm9ew_j",
        "outputId": "f289e708-fd50-4e95-f87a-ebd4358a6832"
      },
      "source": [
        "for_predict_data = np.array([[30, 600]])\n",
        "for_predict_data = (for_predict_data - mean) / std\n",
        "\n",
        "plt.scatter(for_predict_data[0][0], for_predict_data[0][1], color=\"orange\")\n",
        "plt.scatter(train_scaled[:, 0], train_scaled[:, 1])"
      ],
      "execution_count": 26,
      "outputs": [
        {
          "output_type": "execute_result",
          "data": {
            "text/plain": [
              "<matplotlib.collections.PathCollection at 0x7fd6b7293150>"
            ]
          },
          "metadata": {},
          "execution_count": 26
        },
        {
          "output_type": "display_data",
          "data": {
            "image/png": "[encoded data removed]",
            "text/plain": [
              "<Figure size 432x288 with 1 Axes>"
            ]
          },
          "metadata": {
            "needs_background": "light"
          }
        }
      ]
    },
    {
      "cell_type": "code",
      "metadata": {
        "colab": {
          "base_uri": "https://localhost:8080/"
        },
        "id": "ySEBh6ufgwoG",
        "outputId": "9f7b5a44-9495-4363-9cdb-3edecc8ba3c4"
      },
      "source": [
        "model.predict(for_predict_data)"
      ],
      "execution_count": 27,
      "outputs": [
        {
          "output_type": "execute_result",
          "data": {
            "text/plain": [
              "array([1.])"
            ]
          },
          "metadata": {},
          "execution_count": 27
        }
      ]
    }
  ]
}
