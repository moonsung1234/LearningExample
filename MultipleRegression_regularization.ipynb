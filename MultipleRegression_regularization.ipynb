{
  "nbformat": 4,
  "nbformat_minor": 0,
  "metadata": {
    "colab": {
      "name": "MultipleRegression-regularization.ipynb",
      "provenance": [],
      "authorship_tag": "ABX9TyOpf6X1Me6hJNEuImQqlquo",
      "include_colab_link": true
    },
    "kernelspec": {
      "name": "python3",
      "display_name": "Python 3"
    },
    "language_info": {
      "name": "python"
    }
  },
  "cells": [
    {
      "cell_type": "markdown",
      "metadata": {
        "id": "view-in-github",
        "colab_type": "text"
      },
      "source": [
        "<a href=\"https://colab.research.google.com/github/moonsung1234/LearningExample/blob/main/MultipleRegression_regularization.ipynb\" target=\"_parent\"><img src=\"https://colab.research.google.com/assets/colab-badge.svg\" alt=\"Open In Colab\"/></a>"
      ]
    },
    {
      "cell_type": "code",
      "metadata": {
        "id": "21Bc55hU_AGW"
      },
      "source": [
        "from sklearn.linear_model import LinearRegression, Ridge, Lasso\n",
        "from sklearn.model_selection import train_test_split\n",
        "from sklearn.preprocessing import PolynomialFeatures, StandardScaler\n",
        "import matplotlib.pyplot as plt\n",
        "import pandas as pd\n",
        "import numpy as np"
      ],
      "execution_count": 12,
      "outputs": []
    },
    {
      "cell_type": "code",
      "metadata": {
        "colab": {
          "base_uri": "https://localhost:8080/",
          "height": 203
        },
        "id": "fspnDPrqX9Py",
        "outputId": "1362ed52-9eb3-4e2e-c79e-05cbb9c3784b"
      },
      "source": [
        "perch_full = pd.read_csv(\"https://bit.ly/perch_csv\")\n",
        "perch_full.head()"
      ],
      "execution_count": 4,
      "outputs": [
        {
          "output_type": "execute_result",
          "data": {
            "text/html": [
              "<div>\n",
              "<style scoped>\n",
              "    .dataframe tbody tr th:only-of-type {\n",
              "        vertical-align: middle;\n",
              "    }\n",
              "\n",
              "    .dataframe tbody tr th {\n",
              "        vertical-align: top;\n",
              "    }\n",
              "\n",
              "    .dataframe thead th {\n",
              "        text-align: right;\n",
              "    }\n",
              "</style>\n",
              "<table border=\"1\" class=\"dataframe\">\n",
              "  <thead>\n",
              "    <tr style=\"text-align: right;\">\n",
              "      <th></th>\n",
              "      <th>length</th>\n",
              "      <th>height</th>\n",
              "      <th>width</th>\n",
              "    </tr>\n",
              "  </thead>\n",
              "  <tbody>\n",
              "    <tr>\n",
              "      <th>0</th>\n",
              "      <td>8.4</td>\n",
              "      <td>2.11</td>\n",
              "      <td>1.41</td>\n",
              "    </tr>\n",
              "    <tr>\n",
              "      <th>1</th>\n",
              "      <td>13.7</td>\n",
              "      <td>3.53</td>\n",
              "      <td>2.00</td>\n",
              "    </tr>\n",
              "    <tr>\n",
              "      <th>2</th>\n",
              "      <td>15.0</td>\n",
              "      <td>3.82</td>\n",
              "      <td>2.43</td>\n",
              "    </tr>\n",
              "    <tr>\n",
              "      <th>3</th>\n",
              "      <td>16.2</td>\n",
              "      <td>4.59</td>\n",
              "      <td>2.63</td>\n",
              "    </tr>\n",
              "    <tr>\n",
              "      <th>4</th>\n",
              "      <td>17.4</td>\n",
              "      <td>4.59</td>\n",
              "      <td>2.94</td>\n",
              "    </tr>\n",
              "  </tbody>\n",
              "</table>\n",
              "</div>"
            ],
            "text/plain": [
              "   length   height   width\n",
              "0     8.4     2.11    1.41\n",
              "1    13.7     3.53    2.00\n",
              "2    15.0     3.82    2.43\n",
              "3    16.2     4.59    2.63\n",
              "4    17.4     4.59    2.94"
            ]
          },
          "metadata": {},
          "execution_count": 4
        }
      ]
    },
    {
      "cell_type": "code",
      "metadata": {
        "id": "sl0H5bbG_oMD"
      },
      "source": [
        "perch_weight = np.array([5.9, 32.0, 40.0, 51.5, 70.0, 100.0, 78.0, 80.0, 85.0, 85.0, 110.0,\n",
        "       115.0, 125.0, 130.0, 120.0, 120.0, 130.0, 135.0, 110.0, 130.0,\n",
        "       150.0, 145.0, 150.0, 170.0, 225.0, 145.0, 188.0, 180.0, 197.0,\n",
        "       218.0, 300.0, 260.0, 265.0, 250.0, 250.0, 300.0, 320.0, 514.0,\n",
        "       556.0, 840.0, 685.0, 700.0, 700.0, 690.0, 900.0, 650.0, 820.0,\n",
        "       850.0, 900.0, 1015.0, 820.0, 1100.0, 1000.0, 1100.0, 1000.0,\n",
        "       1000.0])\n",
        "perch_weight = np.array(perch_weight).reshape(-1, 1)\n",
        "\n",
        "train_input, test_input, train_target, test_target = train_test_split(perch_full, perch_weight, test_size=0.2, random_state=2021)"
      ],
      "execution_count": 5,
      "outputs": []
    },
    {
      "cell_type": "code",
      "metadata": {
        "colab": {
          "base_uri": "https://localhost:8080/"
        },
        "id": "x6094CifS_kf",
        "outputId": "f985c87a-8b1d-4d1f-cda8-632a8d3e7a51"
      },
      "source": [
        "poly = PolynomialFeatures(include_bias=False)\n",
        "poly.fit(train_input)\n",
        "\n",
        "train_poly = poly.transform(train_input)\n",
        "test_poly = poly.transform(test_input)\n",
        "\n",
        "print(train_poly.shape, test_poly.shape, poly.get_feature_names())"
      ],
      "execution_count": 6,
      "outputs": [
        {
          "output_type": "stream",
          "text": [
            "(44, 9) (12, 9) ['x0', 'x1', 'x2', 'x0^2', 'x0 x1', 'x0 x2', 'x1^2', 'x1 x2', 'x2^2']\n"
          ],
          "name": "stdout"
        }
      ]
    },
    {
      "cell_type": "markdown",
      "metadata": {
        "id": "AcDe3-aUa9lz"
      },
      "source": [
        "StandardScaler 클래스를 이용해 표준편차를 구하는 작업"
      ]
    },
    {
      "cell_type": "code",
      "metadata": {
        "colab": {
          "base_uri": "https://localhost:8080/"
        },
        "id": "0345Ij-9a8e1",
        "outputId": "4f67d069-037e-4f42-9ff8-20efefd3519b"
      },
      "source": [
        "ss = StandardScaler()\n",
        "ss.fit(train_poly)\n",
        "\n",
        "train_scaled = ss.transform(train_poly)\n",
        "test_scaled = ss.transform(test_poly)\n",
        "\n",
        "print(train_scaled)"
      ],
      "execution_count": 9,
      "outputs": [
        {
          "output_type": "stream",
          "text": [
            "[[-0.51962126 -0.64044182 -0.58136023 -0.60286253 -0.65634038 -0.6310313\n",
            "  -0.69905907 -0.67304258 -0.64649369]\n",
            " [-1.21012469 -1.08341606 -1.1271372  -1.06353985 -1.02050729 -1.02626089\n",
            "  -0.97925898 -0.98249644 -0.97880881]\n",
            " [-0.35521569 -0.45906654 -0.47110226 -0.47107039 -0.52161154 -0.52694319\n",
            "  -0.56467965 -0.56612587 -0.56657694]\n",
            " [-0.65114572 -0.45906654 -0.63097632 -0.70217429 -0.6307248  -0.69473567\n",
            "  -0.56467965 -0.62875799 -0.68105447]\n",
            " [-1.07860023 -1.08341606 -0.95623734 -0.98735549 -0.98561841 -0.93926642\n",
            "  -0.97925898 -0.93432908 -0.88607208]\n",
            " [-0.41001755 -0.4939464  -0.52623124 -0.51594585 -0.55670312 -0.5702878\n",
            "  -0.59140859 -0.60031592 -0.60707239]\n",
            " [ 0.02839733 -0.18351564 -0.18443152 -0.13048925 -0.24255754 -0.24540671\n",
            "  -0.33867656 -0.3377566  -0.33868531]\n",
            " [-0.79363056 -0.91250474 -1.04995662 -0.80362118 -0.8479505  -0.89608461\n",
            "  -0.8792197  -0.91479674 -0.93820594]\n",
            " [ 1.83685867  1.672093    1.61277347  2.09864025  1.98952615  1.94268213\n",
            "   1.86954746  1.82218161  1.75184663]\n",
            " [ 0.96002893  1.0163516   1.13866417  0.88936466  0.92791108  1.00904329\n",
            "   0.95265624  1.02962902  1.08950434]\n",
            " [-0.57442312 -0.55324217 -0.6971311  -0.64490375 -0.64006144 -0.69645521\n",
            "  -0.6358787  -0.68584184 -0.72578207]\n",
            " [-0.68402684 -0.69973759 -0.61443762 -0.72615196 -0.73463132 -0.69910065\n",
            "  -0.74051425 -0.70543173 -0.66963088]\n",
            " [ 1.01483079  1.11052723  1.20481896  0.95785878  1.02393784  1.08789792\n",
            "   1.07515965  1.13542863  1.17715497]\n",
            " [-0.57442312 -0.63346585 -0.63648922 -0.64490375 -0.67211258 -0.67183221\n",
            "  -0.69410176 -0.69049643 -0.68484084]\n",
            " [-1.01283799 -0.86367294 -0.74674719 -0.94722265 -0.89634393 -0.85172252\n",
            "  -0.8487749  -0.80448134 -0.75831269]\n",
            " [ 1.3984438   1.63372515  1.53559288  1.46377056  1.64519802  1.57638965\n",
            "   1.81178889  1.73521023  1.63860975]\n",
            " [-0.51962126 -0.31605911 -0.58136023 -0.60286253 -0.52379685 -0.6310313\n",
            "  -0.4506763  -0.55907798 -0.64649369]\n",
            " [ 1.3984438   1.40700605  1.40328331  1.46377056  1.48050833  1.47871165\n",
            "   1.480918    1.47576525  1.44938751]\n",
            " [ 1.3984438   1.20121487  1.07802229  1.46377056  1.33102077  1.23858658\n",
            "   1.19603525  1.10907182  1.01051673]\n",
            " [-0.57442312 -0.75903335 -0.37187008 -0.64490375 -0.7222796  -0.56438642\n",
            "  -0.78074912 -0.64370006 -0.49097828]\n",
            " [-0.57442312 -0.55324217 -0.63648922 -0.64490375 -0.64006144 -0.67183221\n",
            "  -0.6358787  -0.66309022 -0.68484084]\n",
            " [-1.34164915 -1.351991   -1.23739518 -1.13428247 -1.12855639 -1.0888969\n",
            "  -1.11597982 -1.07691177 -1.03316079]\n",
            " [-0.28945346 -0.33698703 -0.2781508  -0.41597277 -0.44282653 -0.41601761\n",
            "  -0.46780309 -0.44112905 -0.41638394]\n",
            " [ 0.85042521  1.32329438  1.72303144  0.75521064  1.05579896  1.31794995\n",
            "   1.36326001  1.64270074  1.91726571]\n",
            " [-1.48413398 -1.4531426  -1.47444983 -1.20477946 -1.18517797 -1.18097876\n",
            "  -1.16098197 -1.15215021 -1.13546819]\n",
            " [-0.90323428 -0.71717752 -0.89559546 -0.87731141 -0.81273224 -0.87013889\n",
            "  -0.75247471 -0.80882788 -0.85068421]\n",
            " [ 0.60929703  0.81404841  0.74173547  0.47337385  0.59234951  0.54930553\n",
            "   0.69990944  0.65283428  0.59608286]\n",
            " [ 0.02839733 -0.14514779 -0.05763485 -0.13048925 -0.22339652 -0.18105116\n",
            "  -0.3051176  -0.26491485 -0.22862254]\n",
            " [ 1.06963265  1.09657528  0.87404504  1.02729765  1.04902135  0.89691709\n",
            "   1.05681675  0.90596934  0.75436959]\n",
            " [ 0.79562335  0.89427209  0.94571272  0.68955076  0.7506163   0.78331555\n",
            "   0.79843703  0.82821235  0.84269156]\n",
            " [-0.93611539 -0.87064891 -0.85700517 -0.89868157 -0.87556769 -0.86613003\n",
            "  -0.85317482 -0.84193469 -0.82748794]\n",
            " [-0.68402684 -0.69973759 -0.55379574 -0.72615196 -0.73463132 -0.67559689\n",
            "  -0.74051425 -0.68424405 -0.62691731]\n",
            " [-0.35521569 -0.1416598  -0.52623124 -0.47107039 -0.38327221 -0.55136268\n",
            "  -0.30204145 -0.47312891 -0.60707239]\n",
            " [ 1.3984438   1.47676577  1.34264143  1.46377056  1.53118208  1.43394257\n",
            "   1.58082427  1.4802235   1.36472839]\n",
            " [ 1.78205682  1.71046085  1.91047     2.01597493  1.98027819  2.14302377\n",
            "   1.92781696  2.08080739  2.20833884]\n",
            " [-0.08120639 -0.18351564 -0.2946895  -0.23252188 -0.28797388 -0.3434917\n",
            "  -0.33867656 -0.38629971 -0.42977322]\n",
            " [-0.24561197 -0.43813862 -0.54828284 -0.37848522 -0.4716979  -0.52368725\n",
            "  -0.54843961 -0.58888764 -0.62296981]\n",
            " [ 1.28884008  1.20121487  1.55213158  1.31450061  1.26045757  1.51239021\n",
            "   1.19603525  1.43338312  1.66269756]\n",
            " [-0.4648194  -0.86367294 -0.57584733 -0.55987656 -0.73102082 -0.61027473\n",
            "  -0.8487749  -0.74970278 -0.6425999 ]\n",
            " [ 0.00647658  0.21760277  0.25660038 -0.1511981  -0.05277801 -0.03202099\n",
            "   0.03741816  0.0565123   0.06863232]\n",
            " [ 1.28884008  1.20121487  0.73070967  1.31450061  1.26045757  0.9211331\n",
            "   1.19603525  0.87149493  0.58317158]\n",
            " [-2.06503369 -1.94843663 -1.79971085 -1.42609579 -1.37923943 -1.33925782\n",
            "  -1.330071   -1.29043037 -1.2435223 ]\n",
            " [-0.49770052 -0.60904995 -0.57584733 -0.58578151 -0.63597587 -0.62135507\n",
            "  -0.67661816 -0.65999958 -0.6425999 ]\n",
            " [ 1.72725496  1.47676577  1.43636071  1.93425435  1.75788377  1.72534859\n",
            "   1.58082427  1.54887781  1.49611303]]\n"
          ],
          "name": "stdout"
        }
      ]
    },
    {
      "cell_type": "code",
      "metadata": {
        "colab": {
          "base_uri": "https://localhost:8080/"
        },
        "id": "P-YFY2p2URJe",
        "outputId": "c9234768-c4fe-4aac-aacb-606e8c21cb75"
      },
      "source": [
        "model = LinearRegression()\n",
        "model.fit(train_scaled, train_target)\n",
        "\n",
        "print(model.score(train_scaled, train_target))\n",
        "print(model.score(test_scaled, test_target))"
      ],
      "execution_count": 10,
      "outputs": [
        {
          "output_type": "stream",
          "text": [
            "0.992454630824144\n",
            "0.9650525972831363\n"
          ],
          "name": "stdout"
        }
      ]
    },
    {
      "cell_type": "markdown",
      "metadata": {
        "id": "ETqsIWcWchmY"
      },
      "source": [
        "**릿지(Ridge)** 규제 모델.\n",
        "> 릿지 규제 모델은 계수를 제곱한 값을 기준으로 규제를 적용한다.\n",
        "\n"
      ]
    },
    {
      "cell_type": "code",
      "metadata": {
        "colab": {
          "base_uri": "https://localhost:8080/"
        },
        "id": "dfl2fxCUchOY",
        "outputId": "840ee140-0875-4b81-fe87-cb74bedc4e99"
      },
      "source": [
        "ridge = Ridge()\n",
        "ridge.fit(train_scaled, train_input)\n",
        "\n",
        "print(ridge.score(train_scaled, train_input))\n",
        "print(ridge.score(test_scaled, test_input)) # 과대적합이 나아진것을 볼 수 있음"
      ],
      "execution_count": 14,
      "outputs": [
        {
          "output_type": "stream",
          "text": [
            "0.9973665469676006\n",
            "0.9952703367613956\n"
          ],
          "name": "stdout"
        },
        {
          "output_type": "stream",
          "text": [
            "/usr/local/lib/python3.7/dist-packages/sklearn/base.py:434: FutureWarning: The default value of multioutput (not exposed in score method) will change from 'variance_weighted' to 'uniform_average' in 0.23 to keep consistent with 'metrics.r2_score'. To specify the default value manually and avoid the warning, please either call 'metrics.r2_score' directly or make a custom scorer with 'metrics.make_scorer' (the built-in scorer 'r2' uses multioutput='uniform_average').\n",
            "  \"multioutput='uniform_average').\", FutureWarning)\n",
            "/usr/local/lib/python3.7/dist-packages/sklearn/base.py:434: FutureWarning: The default value of multioutput (not exposed in score method) will change from 'variance_weighted' to 'uniform_average' in 0.23 to keep consistent with 'metrics.r2_score'. To specify the default value manually and avoid the warning, please either call 'metrics.r2_score' directly or make a custom scorer with 'metrics.make_scorer' (the built-in scorer 'r2' uses multioutput='uniform_average').\n",
            "  \"multioutput='uniform_average').\", FutureWarning)\n"
          ],
          "name": "stderr"
        }
      ]
    },
    {
      "cell_type": "markdown",
      "metadata": {
        "id": "PVXvh4N-d-2u"
      },
      "source": [
        "릿시 규제 모델의 적합한 alpha 값을 찾는 법"
      ]
    },
    {
      "cell_type": "code",
      "metadata": {
        "colab": {
          "base_uri": "https://localhost:8080/",
          "height": 282
        },
        "id": "s-88ESCSeEtt",
        "outputId": "28994843-eb07-4cc7-c2b0-6677f4f975cd"
      },
      "source": [
        "alpha_list = [0.001, 0.01, 0.1, 1, 10, 100]\n",
        "train_score = []\n",
        "test_score = []\n",
        "\n",
        "for a in alpha_list :\n",
        "  ridge = Ridge(alpha=a, max_iter=1000)\n",
        "  ridge.fit(train_scaled, train_target)\n",
        "\n",
        "  train_score.append(ridge.score(train_scaled, train_target))\n",
        "  test_score.append(ridge.score(test_scaled, test_target))\n",
        "\n",
        "plt.plot(np.log10(alpha_list), train_score)\n",
        "plt.plot(np.log10(alpha_list), test_score)"
      ],
      "execution_count": 19,
      "outputs": [
        {
          "output_type": "execute_result",
          "data": {
            "text/plain": [
              "[<matplotlib.lines.Line2D at 0x7f1f514bfa90>]"
            ]
          },
          "metadata": {},
          "execution_count": 19
        },
        {
          "output_type": "display_data",
          "data": {
            "image/png": "[encoded data removed]",
            "text/plain": [
              "<Figure size 432x288 with 1 Axes>"
            ]
          },
          "metadata": {
            "needs_background": "light"
          }
        }
      ]
    },
    {
      "cell_type": "markdown",
      "metadata": {
        "id": "FbgTYu2GdRFh"
      },
      "source": [
        "**라소(Lasso)** 규제 모델.\n",
        "> 라소 규제 모델은 계수의 절댓값을 기준으로 규제를 적용한다.\n",
        "\n"
      ]
    },
    {
      "cell_type": "code",
      "metadata": {
        "colab": {
          "base_uri": "https://localhost:8080/"
        },
        "id": "pgNS9k4zdrD6",
        "outputId": "859b03c6-a437-4908-ff07-ff5ce4326f16"
      },
      "source": [
        "lasso = Lasso()\n",
        "lasso.fit(train_scaled, train_target)\n",
        "\n",
        "print(lasso.score(train_scaled, train_target))\n",
        "print(lasso.score(test_scaled, test_target))"
      ],
      "execution_count": 15,
      "outputs": [
        {
          "output_type": "stream",
          "text": [
            "0.9898480104577734\n",
            "0.9660201596800073\n"
          ],
          "name": "stdout"
        },
        {
          "output_type": "stream",
          "text": [
            "/usr/local/lib/python3.7/dist-packages/sklearn/linear_model/_coordinate_descent.py:476: ConvergenceWarning: Objective did not converge. You might want to increase the number of iterations. Duality gap: 501.18490420161834, tolerance: 501.10067972727273\n",
            "  positive)\n"
          ],
          "name": "stderr"
        }
      ]
    },
    {
      "cell_type": "markdown",
      "metadata": {
        "id": "Ur5FUqpcfNVZ"
      },
      "source": [
        "라소 규제 모델의 적절한 alpha 값을 찾는법"
      ]
    },
    {
      "cell_type": "code",
      "metadata": {
        "colab": {
          "base_uri": "https://localhost:8080/",
          "height": 377
        },
        "id": "HMl19y5YdCoT",
        "outputId": "048bb40f-7ba7-48c1-ad3a-796598a22313"
      },
      "source": [
        "alpha_list = [0.001, 0.01, 0.1, 10, 100]\n",
        "train_score = []\n",
        "test_score = []\n",
        "\n",
        "for a in alpha_list :\n",
        "  lasso = Lasso(alpha=a, max_iter=10000)\n",
        "  lasso.fit(train_scaled, train_target)\n",
        "\n",
        "  train_score.append(lasso.score(train_scaled, train_target))\n",
        "  test_score.append(lasso.score(test_scaled, test_target))\n",
        "\n",
        "plt.plot(np.log10(alpha_list), train_score)\n",
        "plt.plot(np.log10(alpha_list), test_score)"
      ],
      "execution_count": 29,
      "outputs": [
        {
          "output_type": "stream",
          "text": [
            "/usr/local/lib/python3.7/dist-packages/sklearn/linear_model/_coordinate_descent.py:476: ConvergenceWarning: Objective did not converge. You might want to increase the number of iterations. Duality gap: 17702.91999054551, tolerance: 501.10067972727273\n",
            "  positive)\n",
            "/usr/local/lib/python3.7/dist-packages/sklearn/linear_model/_coordinate_descent.py:476: ConvergenceWarning: Objective did not converge. You might want to increase the number of iterations. Duality gap: 3693.7051752082916, tolerance: 501.10067972727273\n",
            "  positive)\n"
          ],
          "name": "stderr"
        },
        {
          "output_type": "execute_result",
          "data": {
            "text/plain": [
              "[<matplotlib.lines.Line2D at 0x7f1f50a13090>]"
            ]
          },
          "metadata": {},
          "execution_count": 29
        },
        {
          "output_type": "display_data",
          "data": {
            "image/png": "[encoded data removed]",
            "text/plain": [
              "<Figure size 432x288 with 1 Axes>"
            ]
          },
          "metadata": {
            "needs_background": "light"
          }
        }
      ]
    }
  ]
}