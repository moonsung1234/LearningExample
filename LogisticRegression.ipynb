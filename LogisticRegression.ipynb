{
  "nbformat": 4,
  "nbformat_minor": 0,
  "metadata": {
    "colab": {
      "name": "LogisticRegression.ipynb",
      "provenance": [],
      "authorship_tag": "ABX9TyN4jmAvF4ICP8LXSOzOPJ0i",
      "include_colab_link": true
    },
    "kernelspec": {
      "name": "python3",
      "display_name": "Python 3"
    },
    "language_info": {
      "name": "python"
    }
  },
  "cells": [
    {
      "cell_type": "markdown",
      "metadata": {
        "id": "view-in-github",
        "colab_type": "text"
      },
      "source": [
        "<a href=\"https://colab.research.google.com/github/moonsung1234/LearningExample/blob/main/LogisticRegression.ipynb\" target=\"_parent\"><img src=\"https://colab.research.google.com/assets/colab-badge.svg\" alt=\"Open In Colab\"/></a>"
      ]
    },
    {
      "cell_type": "code",
      "metadata": {
        "id": "y3ajw9F2gmES"
      },
      "source": [
        "from sklearn.linear_model import LogisticRegression, Ridge, Lasso\n",
        "from sklearn.model_selection import train_test_split\n",
        "from sklearn.preprocessing import PolynomialFeatures, StandardScaler\n",
        "import matplotlib.pyplot as plt\n",
        "import pandas as pd\n",
        "import numpy as np"
      ],
      "execution_count": 2,
      "outputs": []
    },
    {
      "cell_type": "code",
      "metadata": {
        "colab": {
          "base_uri": "https://localhost:8080/",
          "height": 203
        },
        "id": "wQTuI1EkipT_",
        "outputId": "284739c9-bbcf-42ed-fca7-c69430e6b27e"
      },
      "source": [
        "fish = pd.read_csv(\"https://bit.ly/fish_csv\")\n",
        "fish.head()"
      ],
      "execution_count": 3,
      "outputs": [
        {
          "output_type": "execute_result",
          "data": {
            "text/html": [
              "<div>\n",
              "<style scoped>\n",
              "    .dataframe tbody tr th:only-of-type {\n",
              "        vertical-align: middle;\n",
              "    }\n",
              "\n",
              "    .dataframe tbody tr th {\n",
              "        vertical-align: top;\n",
              "    }\n",
              "\n",
              "    .dataframe thead th {\n",
              "        text-align: right;\n",
              "    }\n",
              "</style>\n",
              "<table border=\"1\" class=\"dataframe\">\n",
              "  <thead>\n",
              "    <tr style=\"text-align: right;\">\n",
              "      <th></th>\n",
              "      <th>Species</th>\n",
              "      <th>Weight</th>\n",
              "      <th>Length</th>\n",
              "      <th>Diagonal</th>\n",
              "      <th>Height</th>\n",
              "      <th>Width</th>\n",
              "    </tr>\n",
              "  </thead>\n",
              "  <tbody>\n",
              "    <tr>\n",
              "      <th>0</th>\n",
              "      <td>Bream</td>\n",
              "      <td>242.0</td>\n",
              "      <td>25.4</td>\n",
              "      <td>30.0</td>\n",
              "      <td>11.5200</td>\n",
              "      <td>4.0200</td>\n",
              "    </tr>\n",
              "    <tr>\n",
              "      <th>1</th>\n",
              "      <td>Bream</td>\n",
              "      <td>290.0</td>\n",
              "      <td>26.3</td>\n",
              "      <td>31.2</td>\n",
              "      <td>12.4800</td>\n",
              "      <td>4.3056</td>\n",
              "    </tr>\n",
              "    <tr>\n",
              "      <th>2</th>\n",
              "      <td>Bream</td>\n",
              "      <td>340.0</td>\n",
              "      <td>26.5</td>\n",
              "      <td>31.1</td>\n",
              "      <td>12.3778</td>\n",
              "      <td>4.6961</td>\n",
              "    </tr>\n",
              "    <tr>\n",
              "      <th>3</th>\n",
              "      <td>Bream</td>\n",
              "      <td>363.0</td>\n",
              "      <td>29.0</td>\n",
              "      <td>33.5</td>\n",
              "      <td>12.7300</td>\n",
              "      <td>4.4555</td>\n",
              "    </tr>\n",
              "    <tr>\n",
              "      <th>4</th>\n",
              "      <td>Bream</td>\n",
              "      <td>430.0</td>\n",
              "      <td>29.0</td>\n",
              "      <td>34.0</td>\n",
              "      <td>12.4440</td>\n",
              "      <td>5.1340</td>\n",
              "    </tr>\n",
              "  </tbody>\n",
              "</table>\n",
              "</div>"
            ],
            "text/plain": [
              "  Species  Weight  Length  Diagonal   Height   Width\n",
              "0   Bream   242.0    25.4      30.0  11.5200  4.0200\n",
              "1   Bream   290.0    26.3      31.2  12.4800  4.3056\n",
              "2   Bream   340.0    26.5      31.1  12.3778  4.6961\n",
              "3   Bream   363.0    29.0      33.5  12.7300  4.4555\n",
              "4   Bream   430.0    29.0      34.0  12.4440  5.1340"
            ]
          },
          "metadata": {},
          "execution_count": 3
        }
      ]
    },
    {
      "cell_type": "code",
      "metadata": {
        "id": "Tia8k4goi1BL"
      },
      "source": [
        "fish_input = fish[[\"Weight\", \"Length\", \"Diagonal\", \"Height\", \"Width\"]]\n",
        "fish_target = fish[\"Species\"]"
      ],
      "execution_count": 16,
      "outputs": []
    },
    {
      "cell_type": "code",
      "metadata": {
        "colab": {
          "base_uri": "https://localhost:8080/",
          "height": 203
        },
        "id": "ru_aPgO-AMZq",
        "outputId": "c15e640a-91dc-4d23-e887-8376fca46a78"
      },
      "source": [
        "fish_input.head()"
      ],
      "execution_count": 17,
      "outputs": [
        {
          "output_type": "execute_result",
          "data": {
            "text/html": [
              "<div>\n",
              "<style scoped>\n",
              "    .dataframe tbody tr th:only-of-type {\n",
              "        vertical-align: middle;\n",
              "    }\n",
              "\n",
              "    .dataframe tbody tr th {\n",
              "        vertical-align: top;\n",
              "    }\n",
              "\n",
              "    .dataframe thead th {\n",
              "        text-align: right;\n",
              "    }\n",
              "</style>\n",
              "<table border=\"1\" class=\"dataframe\">\n",
              "  <thead>\n",
              "    <tr style=\"text-align: right;\">\n",
              "      <th></th>\n",
              "      <th>Weight</th>\n",
              "      <th>Length</th>\n",
              "      <th>Diagonal</th>\n",
              "      <th>Height</th>\n",
              "      <th>Width</th>\n",
              "    </tr>\n",
              "  </thead>\n",
              "  <tbody>\n",
              "    <tr>\n",
              "      <th>0</th>\n",
              "      <td>242.0</td>\n",
              "      <td>25.4</td>\n",
              "      <td>30.0</td>\n",
              "      <td>11.5200</td>\n",
              "      <td>4.0200</td>\n",
              "    </tr>\n",
              "    <tr>\n",
              "      <th>1</th>\n",
              "      <td>290.0</td>\n",
              "      <td>26.3</td>\n",
              "      <td>31.2</td>\n",
              "      <td>12.4800</td>\n",
              "      <td>4.3056</td>\n",
              "    </tr>\n",
              "    <tr>\n",
              "      <th>2</th>\n",
              "      <td>340.0</td>\n",
              "      <td>26.5</td>\n",
              "      <td>31.1</td>\n",
              "      <td>12.3778</td>\n",
              "      <td>4.6961</td>\n",
              "    </tr>\n",
              "    <tr>\n",
              "      <th>3</th>\n",
              "      <td>363.0</td>\n",
              "      <td>29.0</td>\n",
              "      <td>33.5</td>\n",
              "      <td>12.7300</td>\n",
              "      <td>4.4555</td>\n",
              "    </tr>\n",
              "    <tr>\n",
              "      <th>4</th>\n",
              "      <td>430.0</td>\n",
              "      <td>29.0</td>\n",
              "      <td>34.0</td>\n",
              "      <td>12.4440</td>\n",
              "      <td>5.1340</td>\n",
              "    </tr>\n",
              "  </tbody>\n",
              "</table>\n",
              "</div>"
            ],
            "text/plain": [
              "   Weight  Length  Diagonal   Height   Width\n",
              "0   242.0    25.4      30.0  11.5200  4.0200\n",
              "1   290.0    26.3      31.2  12.4800  4.3056\n",
              "2   340.0    26.5      31.1  12.3778  4.6961\n",
              "3   363.0    29.0      33.5  12.7300  4.4555\n",
              "4   430.0    29.0      34.0  12.4440  5.1340"
            ]
          },
          "metadata": {},
          "execution_count": 17
        }
      ]
    },
    {
      "cell_type": "code",
      "metadata": {
        "colab": {
          "base_uri": "https://localhost:8080/"
        },
        "id": "GlKTgHWIAMNs",
        "outputId": "f7decccf-c52b-4f5c-9420-6144eb5ec6ea"
      },
      "source": [
        "fish_target.head()"
      ],
      "execution_count": 14,
      "outputs": [
        {
          "output_type": "execute_result",
          "data": {
            "text/plain": [
              "0    Bream\n",
              "1    Bream\n",
              "2    Bream\n",
              "3    Bream\n",
              "4    Bream\n",
              "Name: Species, dtype: object"
            ]
          },
          "metadata": {},
          "execution_count": 14
        }
      ]
    },
    {
      "cell_type": "code",
      "metadata": {
        "id": "PQWFfgfyBa7y"
      },
      "source": [
        "sc = StandardScaler()\n",
        "sc.fit(train_input)\n",
        "\n",
        "train_scaled = sc.transform(train_input)\n",
        "test_scaled = sc.transform(test_input)"
      ],
      "execution_count": 19,
      "outputs": []
    },
    {
      "cell_type": "markdown",
      "metadata": {
        "id": "apRcgl1H-MdZ"
      },
      "source": [
        "로지스틱 희귀(Logistic Regression) 로 이진 분류 수행하기"
      ]
    },
    {
      "cell_type": "code",
      "metadata": {
        "id": "qy3kdC6_0pcC"
      },
      "source": [
        "bream_or_smelt = (train_target == \"Bream\") | (train_target == \"Smelt\")\n",
        "train_bos_input = train_scaled[bream_or_smelt]\n",
        "train_bos_target = train_target[bream_or_smelt]"
      ],
      "execution_count": 23,
      "outputs": []
    },
    {
      "cell_type": "code",
      "metadata": {
        "colab": {
          "base_uri": "https://localhost:8080/",
          "height": 203
        },
        "id": "URtxOX1NBq-q",
        "outputId": "11177b3a-3e04-4b8b-b8a8-650affcea169"
      },
      "source": [
        "pd.DataFrame(np.concatenate((np.array(train_bos_target).reshape(-1, 1), np.array(train_bos_input)), axis=1)).head()"
      ],
      "execution_count": 40,
      "outputs": [
        {
          "output_type": "execute_result",
          "data": {
            "text/html": [
              "<div>\n",
              "<style scoped>\n",
              "    .dataframe tbody tr th:only-of-type {\n",
              "        vertical-align: middle;\n",
              "    }\n",
              "\n",
              "    .dataframe tbody tr th {\n",
              "        vertical-align: top;\n",
              "    }\n",
              "\n",
              "    .dataframe thead th {\n",
              "        text-align: right;\n",
              "    }\n",
              "</style>\n",
              "<table border=\"1\" class=\"dataframe\">\n",
              "  <thead>\n",
              "    <tr style=\"text-align: right;\">\n",
              "      <th></th>\n",
              "      <th>0</th>\n",
              "      <th>1</th>\n",
              "      <th>2</th>\n",
              "      <th>3</th>\n",
              "      <th>4</th>\n",
              "      <th>5</th>\n",
              "    </tr>\n",
              "  </thead>\n",
              "  <tbody>\n",
              "    <tr>\n",
              "      <th>0</th>\n",
              "      <td>Bream</td>\n",
              "      <td>0.68295</td>\n",
              "      <td>0.487198</td>\n",
              "      <td>0.644618</td>\n",
              "      <td>1.15355</td>\n",
              "      <td>0.762781</td>\n",
              "    </tr>\n",
              "    <tr>\n",
              "      <th>1</th>\n",
              "      <td>Bream</td>\n",
              "      <td>0.260493</td>\n",
              "      <td>0.215827</td>\n",
              "      <td>0.422478</td>\n",
              "      <td>1.09724</td>\n",
              "      <td>0.296746</td>\n",
              "    </tr>\n",
              "    <tr>\n",
              "      <th>2</th>\n",
              "      <td>Smelt</td>\n",
              "      <td>-1.10996</td>\n",
              "      <td>-1.55778</td>\n",
              "      <td>-1.59456</td>\n",
              "      <td>-1.58991</td>\n",
              "      <td>-1.94206</td>\n",
              "    </tr>\n",
              "    <tr>\n",
              "      <th>3</th>\n",
              "      <td>Smelt</td>\n",
              "      <td>-1.11333</td>\n",
              "      <td>-1.57716</td>\n",
              "      <td>-1.60344</td>\n",
              "      <td>-1.66727</td>\n",
              "      <td>-1.86647</td>\n",
              "    </tr>\n",
              "    <tr>\n",
              "      <th>4</th>\n",
              "      <td>Bream</td>\n",
              "      <td>0.823769</td>\n",
              "      <td>0.438739</td>\n",
              "      <td>0.626847</td>\n",
              "      <td>1.25929</td>\n",
              "      <td>0.441192</td>\n",
              "    </tr>\n",
              "  </tbody>\n",
              "</table>\n",
              "</div>"
            ],
            "text/plain": [
              "       0         1         2         3        4         5\n",
              "0  Bream   0.68295  0.487198  0.644618  1.15355  0.762781\n",
              "1  Bream  0.260493  0.215827  0.422478  1.09724  0.296746\n",
              "2  Smelt  -1.10996  -1.55778  -1.59456 -1.58991  -1.94206\n",
              "3  Smelt  -1.11333  -1.57716  -1.60344 -1.66727  -1.86647\n",
              "4  Bream  0.823769  0.438739  0.626847  1.25929  0.441192"
            ]
          },
          "metadata": {},
          "execution_count": 40
        }
      ]
    },
    {
      "cell_type": "code",
      "metadata": {
        "colab": {
          "base_uri": "https://localhost:8080/"
        },
        "id": "wJer_8E-B7tf",
        "outputId": "0f3db5c1-2a14-430f-f071-42e1092243bb"
      },
      "source": [
        "model = LogisticRegression()\n",
        "model.fit(train_bos_input, train_bos_target)\n",
        "\n",
        "model.score(train_bos_input, train_bos_target)"
      ],
      "execution_count": 42,
      "outputs": [
        {
          "output_type": "execute_result",
          "data": {
            "text/plain": [
              "1.0"
            ]
          },
          "metadata": {},
          "execution_count": 42
        }
      ]
    },
    {
      "cell_type": "code",
      "metadata": {
        "colab": {
          "base_uri": "https://localhost:8080/"
        },
        "id": "01XnKJeGDQQl",
        "outputId": "1b0c781a-d611-4e39-c8e3-b4a6a5c63405"
      },
      "source": [
        "print(model.predict(train_bos_input[:5])) # 예측값\n",
        "print(model.predict_proba(train_bos_input[:5])) # 예측확률"
      ],
      "execution_count": 47,
      "outputs": [
        {
          "output_type": "stream",
          "text": [
            "['Bream' 'Bream' 'Smelt' 'Smelt' 'Bream']\n",
            "[[0.99515149 0.00484851]\n",
            " [0.98786779 0.01213221]\n",
            " [0.0448157  0.9551843 ]\n",
            " [0.04329634 0.95670366]\n",
            " [0.99448578 0.00551422]]\n"
          ],
          "name": "stdout"
        }
      ]
    },
    {
      "cell_type": "markdown",
      "metadata": {
        "id": "1sH_G-Z1EAES"
      },
      "source": [
        "로지스틱 희귀(Logistic Regression) 로 다중 분류 수행하기"
      ]
    },
    {
      "cell_type": "code",
      "metadata": {
        "colab": {
          "base_uri": "https://localhost:8080/"
        },
        "id": "CXiQK5t2DdJQ",
        "outputId": "9d057bef-ac0b-4c9a-bfc8-122836829ea1"
      },
      "source": [
        "model = LogisticRegression(C=1000, max_iter=1000)\n",
        "model.fit(train_scaled, train_target)"
      ],
      "execution_count": 58,
      "outputs": [
        {
          "output_type": "execute_result",
          "data": {
            "text/plain": [
              "LogisticRegression(C=1000, class_weight=None, dual=False, fit_intercept=True,\n",
              "                   intercept_scaling=1, l1_ratio=None, max_iter=1000,\n",
              "                   multi_class='auto', n_jobs=None, penalty='l2',\n",
              "                   random_state=None, solver='lbfgs', tol=0.0001, verbose=0,\n",
              "                   warm_start=False)"
            ]
          },
          "metadata": {},
          "execution_count": 58
        }
      ]
    },
    {
      "cell_type": "code",
      "metadata": {
        "colab": {
          "base_uri": "https://localhost:8080/"
        },
        "id": "j6e0QfHJNubI",
        "outputId": "b0c2ce94-75fb-4d71-b657-4d679b55e867"
      },
      "source": [
        "print(model.score(train_scaled, train_target))\n",
        "print(model.score(test_scaled, test_target))"
      ],
      "execution_count": 59,
      "outputs": [
        {
          "output_type": "stream",
          "text": [
            "1.0\n",
            "0.95\n"
          ],
          "name": "stdout"
        }
      ]
    },
    {
      "cell_type": "code",
      "metadata": {
        "colab": {
          "base_uri": "https://localhost:8080/"
        },
        "id": "nyZtiEc_N1xZ",
        "outputId": "2dc071c5-a50d-4626-ee6b-cb1b94c0fb59"
      },
      "source": [
        "print(model.predict(train_scaled[:5]))\n",
        "print(train_target[:5].to_numpy())\n",
        "\n",
        "print(model.classes_)\n",
        "print(np.round(model.predict_proba(train_scaled[:5]), decimals=3))"
      ],
      "execution_count": 65,
      "outputs": [
        {
          "output_type": "stream",
          "text": [
            "['Perch' 'Perch' 'Pike' 'Parkki' 'Perch']\n",
            "['Perch' 'Perch' 'Pike' 'Parkki' 'Perch']\n",
            "['Bream' 'Parkki' 'Perch' 'Pike' 'Roach' 'Smelt' 'Whitefish']\n",
            "[[0.    0.    0.996 0.    0.001 0.    0.002]\n",
            " [0.    0.    0.999 0.    0.001 0.    0.   ]\n",
            " [0.    0.    0.    1.    0.    0.    0.   ]\n",
            " [0.    0.998 0.    0.    0.    0.    0.002]\n",
            " [0.    0.    0.978 0.    0.021 0.    0.   ]]\n"
          ],
          "name": "stdout"
        }
      ]
    },
    {
      "cell_type": "markdown",
      "metadata": {
        "id": "w2QUht6HOtfD"
      },
      "source": [
        "# 부록\n",
        "시그모이드(sigmoid function) 함수\n",
        "<br/> \n",
        "소프트맥스(softmax function) 함수"
      ]
    },
    {
      "cell_type": "code",
      "metadata": {
        "colab": {
          "base_uri": "https://localhost:8080/",
          "height": 265
        },
        "id": "xDcnvNp-OMIY",
        "outputId": "e22f46b9-921b-47a2-c538-bc8d091b7b29"
      },
      "source": [
        "# softmax function\n",
        "\n",
        "z = np.arange(-5, 5, 0.1)\n",
        "sm = 1 / (1 + np.exp(-z))\n",
        "\n",
        "plt.plot(z, sm)\n",
        "plt.show()"
      ],
      "execution_count": 67,
      "outputs": [
        {
          "output_type": "display_data",
          "data": {
            "image/png": "[encoded data removed]",
            "text/plain": [
              "<Figure size 432x288 with 1 Axes>"
            ]
          },
          "metadata": {
            "needs_background": "light"
          }
        }
      ]
    },
    {
      "cell_type": "code",
      "metadata": {
        "colab": {
          "base_uri": "https://localhost:8080/"
        },
        "id": "inyhvCN7XZjB",
        "outputId": "88d42c82-8ee6-4bac-9749-6588026c6485"
      },
      "source": [
        "# softmax function\n",
        "\n",
        "z = np.arange(-5, 5, 0.1)\n",
        "e_sum = np.sum(np.exp(z))\n",
        "sm = np.exp(z) / e_sum\n",
        "\n",
        "print(np.round(z, decimals=3))\n",
        "print(np.round(sm, decimals=3))"
      ],
      "execution_count": 80,
      "outputs": [
        {
          "output_type": "stream",
          "text": [
            "[-5.  -4.9 -4.8 -4.7 -4.6 -4.5 -4.4 -4.3 -4.2 -4.1 -4.  -3.9 -3.8 -3.7\n",
            " -3.6 -3.5 -3.4 -3.3 -3.2 -3.1 -3.  -2.9 -2.8 -2.7 -2.6 -2.5 -2.4 -2.3\n",
            " -2.2 -2.1 -2.  -1.9 -1.8 -1.7 -1.6 -1.5 -1.4 -1.3 -1.2 -1.1 -1.  -0.9\n",
            " -0.8 -0.7 -0.6 -0.5 -0.4 -0.3 -0.2 -0.1 -0.   0.1  0.2  0.3  0.4  0.5\n",
            "  0.6  0.7  0.8  0.9  1.   1.1  1.2  1.3  1.4  1.5  1.6  1.7  1.8  1.9\n",
            "  2.   2.1  2.2  2.3  2.4  2.5  2.6  2.7  2.8  2.9  3.   3.1  3.2  3.3\n",
            "  3.4  3.5  3.6  3.7  3.8  3.9  4.   4.1  4.2  4.3  4.4  4.5  4.6  4.7\n",
            "  4.8  4.9]\n",
            "[0.    0.    0.    0.    0.    0.    0.    0.    0.    0.    0.    0.\n",
            " 0.    0.    0.    0.    0.    0.    0.    0.    0.    0.    0.    0.\n",
            " 0.    0.    0.    0.    0.    0.    0.    0.    0.    0.    0.    0.\n",
            " 0.    0.    0.    0.    0.    0.    0.    0.    0.    0.    0.    0.001\n",
            " 0.001 0.001 0.001 0.001 0.001 0.001 0.001 0.001 0.001 0.001 0.002 0.002\n",
            " 0.002 0.002 0.002 0.003 0.003 0.003 0.004 0.004 0.004 0.005 0.005 0.006\n",
            " 0.006 0.007 0.008 0.009 0.01  0.011 0.012 0.013 0.014 0.016 0.017 0.019\n",
            " 0.021 0.023 0.026 0.029 0.032 0.035 0.039 0.043 0.047 0.052 0.058 0.064\n",
            " 0.071 0.078 0.086 0.095]\n"
          ],
          "name": "stdout"
        }
      ]
    }
  ]
}